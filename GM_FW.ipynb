{
 "cells": [
  {
   "cell_type": "code",
   "execution_count": 448,
   "id": "acknowledged-humidity",
   "metadata": {},
   "outputs": [],
   "source": [
    "#%%\n",
    "import numpy as np\n",
    "import scipy as sp\n",
    "from scipy.optimize import check_grad\n",
    "from scipy.optimize import approx_fprime\n",
    "from matplotlib import pyplot as plt\n",
    "#%%\n",
    "'''\n",
    "    mx: mean of source with size: n x 1\n",
    "    M: means of target distributions with size: n x K, where K indicates number of data-classes.\n",
    "    covx: covariance matrix of source with size: n x 1\n",
    "    covM: array of covariance matrices of target distributions with size: K x n x n, where K indicates number of data-classes.\n",
    "    max_iter: max_iterations of Frank Wolfe\n",
    "    tol: tolerance for gradient check\n",
    "    divg: divergences to be used for computations\n",
    "    max_iter: maximum of frank wolfe iterations\n",
    "    min_tol: minimum tolerance for gardient checking\n",
    "    print_iter: priniting values of maixture weights for each iteration\n",
    "'''\n",
    "class GM_FW:\n",
    "    def __init__(self, mux, M, covx, covM, c0,  max_iter = None, min_tol = None, print_iter = None):\n",
    "        # instance attributes which should be initilzied with class\n",
    "        self.mux = mux\n",
    "        self.M = M\n",
    "        self.covx = covx\n",
    "        self.covM = covM\n",
    "        self.c0 = c0\n",
    "        self.divg = divg\n",
    "        \n",
    "        self.sqrt_covx = sp.linalg.sqrtm(covx)\n",
    "        print(self.sqrt_covx.shape)\n",
    "        self.I = np.identity(np.size(mux))\n",
    "\n",
    "        # attributes to be keep track of computations\n",
    "        self.c = np.zeros_like(c0)\n",
    "        self.mubar = np.zeros_like(mux)\n",
    "        self.hat_covM = self.covM + self.M.T.reshape([self.M.shape[1], self.M.shape[0], 1]) @ self.M.T.reshape([M.shape[1], 1, M.shape[0]])\n",
    "        self.tilde_covM = np.zeros_like(covM)\n",
    "        self.tilde_sigma_c = np.zeros([covM.shape[1], covM.shape[2]])\n",
    "        self.zeta_c = np.zeros([covM.shape[1], covM.shape[2]])\n",
    "        \n",
    "        if max_iter == None:\n",
    "            self.max_iter = 1000\n",
    "        else:\n",
    "            self.max_iter = max_iter\n",
    "\n",
    "        if min_tol == None:\n",
    "            self.min_tol = 1e-6\n",
    "        else:\n",
    "            self.min_tol = min_tol\n",
    "        \n",
    "        if print_iter == None:\n",
    "            self.print_iter = False\n",
    "        elif print_iter == False:\n",
    "            self.print_iter = False\n",
    "        elif print_iter == True:\n",
    "            self.print_iter = True\n",
    "        else:\n",
    "            self.print_iter = False\n",
    "\n",
    "        self.obj_vals = np.zeros([self.max_iter])\n",
    "        self.grads = np.zeros([self.max_iter, np.size(self.c)])\n",
    "        self.weights = np.zeros([self.max_iter, np.size(self.c)])\n",
    "    \n",
    "    def reset_values(self):\n",
    "        # self.mux = mux\n",
    "        # self.M = M\n",
    "        # self.covx = covx\n",
    "        # self.covM = covM\n",
    "        # self.c0 = c0\n",
    "        # self.divg = divg\n",
    "\n",
    "        self.sqrt_covx = sp.linalg.sqrtm(self.covx)\n",
    "        self.I = np.identity(np.size(self.mux))\n",
    "\n",
    "        # attributes to be keep track of computations\n",
    "        self.c = np.zeros_like(self.c0)\n",
    "        self.mubar = np.zeros_like(self.mux)\n",
    "        self.hat_covM = self.covM + \\\n",
    "            self.M.T.reshape([self.M.shape[1], self.M.shape[0], 1]\n",
    "                        ) @ self.M.T.reshape([self.M.shape[1], 1, self.M.shape[0]])\n",
    "        self.tilde_covM = np.zeros_like(self.covM)\n",
    "        self.tilde_sigma_c = np.zeros([self.covM.shape[1], self.covM.shape[2]])\n",
    "        self.zeta_c = np.zeros([self.covM.shape[1], self.covM.shape[2]])\n",
    "\n",
    "        # if max_iter == None:\n",
    "        #     self.max_iter = 1000\n",
    "        # else:\n",
    "        #     self.max_iter = max_iter\n",
    "\n",
    "        # if min_tol == None:\n",
    "        #     self.min_tol = 1e-6\n",
    "        # else:\n",
    "        #     self.min_tol = min_tol\n",
    "\n",
    "        # if print_iter == None:\n",
    "        #     self.print_iter = False\n",
    "        # elif print_iter == False:\n",
    "        #     self.print_iter = False\n",
    "        # elif print_iter == True:\n",
    "        #     self.print_iter = True\n",
    "        # else:\n",
    "        #     self.print_iter = False\n",
    "\n",
    "        self.obj_vals = np.zeros([self.max_iter])\n",
    "        self.grads = np.zeros([self.max_iter, np.size(self.c)])\n",
    "        self.weights = np.zeros([self.max_iter, np.size(self.c)])\n",
    "\n",
    "    def initialize_weights(self):\n",
    "        self.c = self.c0\n",
    "\n",
    "    def compute_mubar(self):\n",
    "        self.mubar =  np.sum(self.c[np.newaxis,:] * self.M, axis = 1, keepdims = True)\n",
    "    \n",
    "    def compute_mmd(self):\n",
    "        return np.linalg.norm(self.mux - self.M@self.c)**2\n",
    "    \n",
    "    def compute_mmd_grad(self):\n",
    "        return 2*self.M.T @ (self.M @ self.c[:,np.newaxis] - self.mux)\n",
    "\n",
    "    def compute_tilde_covM(self):\n",
    "        self.tilde_covM = self.hat_covM - (self.mubar@self.mubar.T)[np.newaxis,:,:]\n",
    "\n",
    "        \n",
    "    def compute_tilde_sigma_c(self):\n",
    "        self.tilde_sigma_c = np.sum(\n",
    "            self.c[:, np.newaxis, np.newaxis] * self.tilde_covM, axis=0)\n",
    "            \n",
    "    def compute_zeta_c(self):\n",
    "        temp = sp.linalg.sqrtm(self.sqrt_covx @ self.tilde_sigma_c @ self.sqrt_covx)\n",
    "        self.zeta_c = (temp + temp.T)/2\n",
    "\n",
    "    def compute_bures(self):\n",
    "        temp =  np.trace( self.covx + self.tilde_sigma_c - 2 * self.zeta_c )\n",
    "        return temp\n",
    "    \n",
    "    def compute_bures_grad_tilde_sigma_c(self):\n",
    "        return self.I - self.sqrt_covx @ sp.linalg.pinv(self.zeta_c) @ self.sqrt_covx\n",
    "    \n",
    "    def compute_bures_grad_c(self):\n",
    "        G = self.compute_bures_grad_tilde_sigma_c()\n",
    "        rho = (self.M.T.reshape(self.M.shape[1], self.M.shape[0],1) @ mubar.T) + mubar @ self.M.T.reshape(self.M.shape[1],1,self. M.shape[0])\n",
    "        temp = np.sum(G[np.newaxis, :, :] * (self.hat_covM - rho ), axis=(1, 2))\n",
    "        return temp\n",
    "    \n",
    "    def FW_Bures_routine(self):\n",
    "\n",
    "        # commented part must be uncommented for gradient-checking\n",
    "        def bures(c_i):\n",
    "            mubar =  np.sum(c_i[np.newaxis,:] * self.M, axis = 1, keepdims = True)\n",
    "            tilde_covM = self.hat_covM - (mubar@mubar.T)[np.newaxis,:,:]\n",
    "            \n",
    "            tilde_sigma_c = np.sum(c_i[:, np.newaxis, np.newaxis] * tilde_covM, axis=0)\n",
    "            zeta_ci = sp.linalg.sqrtm(self.sqrt_covx @ tilde_sigma_c @ self.sqrt_covx)\n",
    "            temp =  np.trace( tilde_sigma_c + self.covx  - 2 * zeta_ci )\n",
    "            return temp\n",
    "        \n",
    "        def bures_grad(c_i):\n",
    "            mubar =  np.sum(c_i[np.newaxis,:] * self.M, axis = 1, keepdims = True)\n",
    "            #print(\"mubar\")\n",
    "            #print(mubar)\n",
    "            #print(\"hat_covM\")\n",
    "            #print(self.hat_covM )\n",
    "            #print(\"tilde_covM\")\n",
    "            tilde_covM = self.hat_covM - (mubar@mubar.T)[np.newaxis,:,:]\n",
    "            #print(tilde_covM)\n",
    "            tilde_sigma_c = np.sum(c_i[:, np.newaxis, np.newaxis] * tilde_covM, axis=0)\n",
    "            #print(\"tilde_sigma_c\")\n",
    "            #print(tilde_sigma_c)\n",
    "            temp = sp.linalg.sqrtm(self.sqrt_covx @ tilde_sigma_c @ self.sqrt_covx)\n",
    "            zeta_ci = (temp + temp.T)/2\n",
    "            #print(\"sqrt_covx\")\n",
    "            #print(self.sqrt_covx)\n",
    "            #print(\"zeta_ci\")\n",
    "            #print(zeta_ci)\n",
    "            G = self.I - self.sqrt_covx @ np.linalg.pinv(zeta_ci) @ self.sqrt_covx\n",
    "            print(\"G\")\n",
    "            print(G)\n",
    "            rho = (M.T.reshape(M.shape[1],M.shape[0],1) @ mubar.T) +  mubar @ M.T.reshape(M.shape[1],1,M.shape[0])\n",
    "            print(\"rho\")\n",
    "            print(rho)\n",
    "            return np.sum(G[np.newaxis, :, :] * (hat_covM - rho ), axis=(1, 2))\n",
    "            \n",
    "\n",
    "        self.initialize_weights()\n",
    "        for i in range(0, self.max_iter):\n",
    "            self.compute_mubar()\n",
    "            self.compute_tilde_covM()\n",
    "            self.compute_tilde_sigma_c()\n",
    "            self.compute_zeta_c()\n",
    "            self.compute_bures_grad_c()\n",
    "            self.obj_vals[i] = self.compute_bures()\n",
    "            g = self.compute_bures_grad_c()\n",
    "            \n",
    "            print(\"g\")\n",
    "            c_i = self.c\n",
    "            \n",
    "            print(np.squeeze(bures_grad(c_i)))\n",
    "            #print(np.squeeze(self.compute_bures_grad_c()))\n",
    "\n",
    "            eps = np.sqrt(np.finfo(float).eps)/100\n",
    "            ga = sp.optimize.approx_fprime(c_i, bures, np.array([eps ,eps, eps]).T)\n",
    "            print(\"ga\")\n",
    "            print(ga)\n",
    "            \n",
    "            s = np.zeros_like(self.c)\n",
    "            idx = np.argmin(g)\n",
    "            s[idx] = 1\n",
    "            gamma = 2 / (2 + i)\n",
    "            self.c = (1 - gamma) * self.c + gamma * s\n",
    "            self.grads[i, :] = np.squeeze(g)\n",
    "            self.weights[i, :] = self.c\n",
    "\n",
    "    def FW_MMD_routine(self):\n",
    "        \n",
    "        # commented part must be uncommented for gradient-checking\n",
    "        \n",
    "        def mmd(c_i):\n",
    "\n",
    "            return (np.linalg.norm(self.M@c_i[:,np.newaxis] - self.mux))**2\n",
    "        def mmd_grad(c_i):\n",
    "            return np.squeeze(2 * self.M.T @ (self.M @ c_i[:,np.newaxis] - self.mux))\n",
    "        \n",
    "        self.initialize_weights()\n",
    "        for i in range(0, self.max_iter):\n",
    "            self.compute_mubar()\n",
    "            self.compute_tilde_covM()\n",
    "            self.obj_vals[i] = self.compute_mmd()\n",
    "\n",
    "            g = self.compute_mmd_grad()\n",
    "\n",
    "            print(\"g\")\n",
    "            c_i = self.c\n",
    "            print(np.squeeze(mmd_grad(c_i)))\n",
    "            #print(np.squeeze(self.compute_mmd_grad()))\n",
    "\n",
    "            eps = np.sqrt(np.finfo(float).eps) * 100\n",
    "            \n",
    "            print(\"ga\")\n",
    "            ga = sp.optimize.approx_fprime(c_i, mmd, np.array([eps ,eps, eps]).T)\n",
    "            print(ga)\n",
    "\n",
    "            s = np.zeros_like(self.c)\n",
    "            idx = np.argmin(g)\n",
    "            s[idx] = 1\n",
    "            gamma = 2 / (2 + i)\n",
    "            self.c = (1 - gamma) * self.c  + gamma * s \n",
    "            self.grads[i,:] = np.squeeze(g)\n",
    "            self.weights[i,:] = self.c\n"
   ]
  },
  {
   "cell_type": "markdown",
   "id": "lesser-pearl",
   "metadata": {},
   "source": [
    "$\\beta$"
   ]
  },
  {
   "cell_type": "code",
   "execution_count": 466,
   "id": "large-bikini",
   "metadata": {},
   "outputs": [
    {
     "name": "stdout",
     "output_type": "stream",
     "text": [
      "(2, 2)\n"
     ]
    }
   ],
   "source": [
    "import numpy as np\n",
    "import scipy as sp\n",
    "\n",
    "M = np.array([[0, -0.5, 0.5],[1, 0, 0]])\n",
    "mux = np.array([[np.sqrt(3)/2], [np.sqrt(3)/2] ])\n",
    "covx = np.array([[10,6],[6,8]])\n",
    "covM = np.zeros([3,2,2])\n",
    "covM[0] = np.array([[1, 0.5],[0.5, 1]])\n",
    "covM[1] = np.array([[5, 0.6], [0.7, 7]])\n",
    "covM[2] = np.array([[4, 1], [1, 2]])\n",
    "divg = \"MMD\"\n",
    "c0 = np.ones(3)/3\n",
    "\n",
    "iterations = 3\n",
    "\n",
    "test = GM_FW(mux, M, covx, covM, c0, max_iter = iterations)\n",
    "#test.FW_MMD_routine()\n"
   ]
  },
  {
   "cell_type": "code",
   "execution_count": 467,
   "id": "confident-province",
   "metadata": {},
   "outputs": [
    {
     "data": {
      "text/plain": [
       "[<matplotlib.lines.Line2D at 0x1c2261e5af0>]"
      ]
     },
     "execution_count": 467,
     "metadata": {},
     "output_type": "execute_result"
    },
    {
     "data": {
      "image/png": "[encoded data removed]",
      "text/plain": [
       "<Figure size 432x288 with 1 Axes>"
      ]
     },
     "metadata": {
      "needs_background": "light"
     },
     "output_type": "display_data"
    }
   ],
   "source": [
    "iters = np.arange(0,test.grads.shape[0])\n",
    "plt.plot(iters, test.obj_vals)"
   ]
  },
  {
   "cell_type": "code",
   "execution_count": 468,
   "id": "classified-basin",
   "metadata": {},
   "outputs": [
    {
     "data": {
      "text/plain": [
       "[<matplotlib.lines.Line2D at 0x1c226239e20>]"
      ]
     },
     "execution_count": 468,
     "metadata": {},
     "output_type": "execute_result"
    },
    {
     "data": {
      "image/png": "[encoded data removed]",
      "text/plain": [
       "<Figure size 432x288 with 1 Axes>"
      ]
     },
     "metadata": {
      "needs_background": "light"
     },
     "output_type": "display_data"
    }
   ],
   "source": [
    "iters = np.arange(0, test.grads.shape[0])\n",
    "plt.plot(iters, np.linalg.norm(test.grads, axis = 1))"
   ]
  },
  {
   "cell_type": "code",
   "execution_count": 469,
   "id": "fifth-milwaukee",
   "metadata": {},
   "outputs": [
    {
     "name": "stdout",
     "output_type": "stream",
     "text": [
      "g\n",
      "G\n",
      "[[-0.55001141 -0.42588768]\n",
      " [-0.42588768 -0.35596637]]\n",
      "rho\n",
      "[[[ 0.          0.        ]\n",
      "  [ 0.          0.66666667]]\n",
      "\n",
      " [[ 0.         -0.16666667]\n",
      "  [-0.16666667  0.        ]]\n",
      "\n",
      " [[ 0.          0.16666667]\n",
      "  [ 0.16666667  0.        ]]]\n",
      "[-1.45052092 -6.07494105 -3.75929405]\n",
      "ga\n",
      "[-1.41099691 -6.03568554 -3.71977091]\n",
      "g\n",
      "G\n",
      "[[-0.29218607 -0.38028847]\n",
      " [-0.38028847  0.01511999]]\n",
      "rho\n",
      "[[[ 0.  -0.5]\n",
      "  [-0.5  0. ]]\n",
      "\n",
      " [[ 0.5  0. ]\n",
      "  [ 0.   0. ]]\n",
      "\n",
      " [[-0.5  0. ]\n",
      "  [ 0.   0. ]]]\n",
      "[-1.02252302 -1.77641889 -2.11822078]\n",
      "ga\n",
      "[-0.94945431 -1.70358419 -2.04504728]\n",
      "g\n",
      "G\n",
      "[[-0.29218607 -0.38028847]\n",
      " [-0.38028847  0.01511999]]\n",
      "rho\n",
      "[[[ 0.  -0.5]\n",
      "  [-0.5  0. ]]\n",
      "\n",
      " [[ 0.5  0. ]\n",
      "  [ 0.   0. ]]\n",
      "\n",
      " [[-0.5  0. ]\n",
      "  [ 0.   0. ]]]\n",
      "[-1.02252302 -1.77641889 -2.11822078]\n",
      "ga\n",
      "[-0.94945431 -1.70358419 -2.04504728]\n"
     ]
    }
   ],
   "source": [
    "test.reset_values()\n",
    "test.FW_Bures_routine()"
   ]
  },
  {
   "cell_type": "code",
   "execution_count": 470,
   "id": "concerned-bandwidth",
   "metadata": {},
   "outputs": [
    {
     "data": {
      "text/plain": [
       "[<matplotlib.lines.Line2D at 0x1c226294e50>]"
      ]
     },
     "execution_count": 470,
     "metadata": {},
     "output_type": "execute_result"
    },
    {
     "data": {
      "image/png": "[encoded data removed]",
      "text/plain": [
       "<Figure size 432x288 with 1 Axes>"
      ]
     },
     "metadata": {
      "needs_background": "light"
     },
     "output_type": "display_data"
    }
   ],
   "source": [
    "iters = np.arange(0, test.grads.shape[0])\n",
    "plt.plot(iters, test.obj_vals)\n"
   ]
  },
  {
   "cell_type": "code",
   "execution_count": 471,
   "id": "split-print",
   "metadata": {},
   "outputs": [
    {
     "data": {
      "text/plain": [
       "[<matplotlib.lines.Line2D at 0x1c2262fa190>]"
      ]
     },
     "execution_count": 471,
     "metadata": {},
     "output_type": "execute_result"
    },
    {
     "data": {
      "image/png": "[encoded data removed]",
      "text/plain": [
       "<Figure size 432x288 with 1 Axes>"
      ]
     },
     "metadata": {
      "needs_background": "light"
     },
     "output_type": "display_data"
    }
   ],
   "source": [
    "iters = np.arange(0, test.grads.shape[0])\n",
    "plt.plot(iters, np.linalg.norm(test.grads, axis=1))\n"
   ]
  },
  {
   "cell_type": "code",
   "execution_count": 472,
   "id": "expensive-grammar",
   "metadata": {},
   "outputs": [
    {
     "data": {
      "text/plain": [
       "array([0., 1., 0.])"
      ]
     },
     "execution_count": 472,
     "metadata": {},
     "output_type": "execute_result"
    }
   ],
   "source": [
    "test.c"
   ]
  },
  {
   "cell_type": "code",
   "execution_count": null,
   "id": "cubic-white",
   "metadata": {},
   "outputs": [],
   "source": []
  },
  {
   "cell_type": "code",
   "execution_count": null,
   "id": "clean-disaster",
   "metadata": {},
   "outputs": [],
   "source": []
  },
  {
   "cell_type": "code",
   "execution_count": 456,
   "id": "blank-cricket",
   "metadata": {},
   "outputs": [
    {
     "name": "stdout",
     "output_type": "stream",
     "text": [
      "[[[1.         0.5       ]\n",
      "  [0.5        1.88888889]]\n",
      "\n",
      " [[5.25       0.6       ]\n",
      "  [0.7        6.88888889]]\n",
      "\n",
      " [[4.25       1.        ]\n",
      "  [1.         1.88888889]]]\n"
     ]
    }
   ],
   "source": [
    "tilde_covM = hat_covM - (mubar@mubar.T)[np.newaxis,:,:]\n",
    "print(tilde_covM)"
   ]
  },
  {
   "cell_type": "code",
   "execution_count": 457,
   "id": "covered-stylus",
   "metadata": {},
   "outputs": [
    {
     "name": "stdout",
     "output_type": "stream",
     "text": [
      "[[[0.33333333 0.16666667]\n",
      "  [0.16666667 0.62962963]]\n",
      "\n",
      " [[1.75       0.2       ]\n",
      "  [0.23333333 2.2962963 ]]\n",
      "\n",
      " [[1.41666667 0.33333333]\n",
      "  [0.33333333 0.62962963]]]\n",
      "[[3.5        0.7       ]\n",
      " [0.73333333 3.55555556]]\n"
     ]
    }
   ],
   "source": [
    "tilde_sigma_c = c0[:, np.newaxis, np.newaxis] * tilde_covM\n",
    "print(tilde_sigma_c)\n",
    "tilde_sigma_c = np.sum(c0[:, np.newaxis, np.newaxis] * tilde_covM, axis = 0)\n",
    "print(tilde_sigma_c)"
   ]
  },
  {
   "cell_type": "code",
   "execution_count": 458,
   "id": "alike-situation",
   "metadata": {},
   "outputs": [
    {
     "name": "stdout",
     "output_type": "stream",
     "text": [
      "[[3.5        0.7       ]\n",
      " [0.73333333 3.55555556]]\n"
     ]
    }
   ],
   "source": [
    "tilde_sigma_c = np.sum(tilde_covM, axis = 0)\n",
    "print(tilde_sigma_c/3)"
   ]
  },
  {
   "cell_type": "code",
   "execution_count": null,
   "id": "criminal-refund",
   "metadata": {},
   "outputs": [],
   "source": []
  },
  {
   "cell_type": "code",
   "execution_count": null,
   "id": "sealed-conviction",
   "metadata": {},
   "outputs": [],
   "source": []
  },
  {
   "cell_type": "code",
   "execution_count": 459,
   "id": "considered-brake",
   "metadata": {},
   "outputs": [
    {
     "data": {
      "text/plain": [
       "(3, 3)"
      ]
     },
     "execution_count": 459,
     "metadata": {},
     "output_type": "execute_result"
    }
   ],
   "source": [
    "test.grads.shape"
   ]
  },
  {
   "cell_type": "code",
   "execution_count": null,
   "id": "sensitive-tutorial",
   "metadata": {},
   "outputs": [],
   "source": []
  },
  {
   "cell_type": "code",
   "execution_count": null,
   "id": "engaged-plumbing",
   "metadata": {},
   "outputs": [],
   "source": []
  },
  {
   "cell_type": "code",
   "execution_count": 238,
   "id": "accepting-logan",
   "metadata": {},
   "outputs": [
    {
     "data": {
      "text/plain": [
       "array([[ 0. , -0.5,  0.5],\n",
       "       [ 1. ,  0. ,  0. ]])"
      ]
     },
     "execution_count": 238,
     "metadata": {},
     "output_type": "execute_result"
    }
   ],
   "source": [
    "M"
   ]
  },
  {
   "cell_type": "code",
   "execution_count": 239,
   "id": "several-gazette",
   "metadata": {},
   "outputs": [
    {
     "data": {
      "text/plain": [
       "(2,)"
      ]
     },
     "execution_count": 239,
     "metadata": {},
     "output_type": "execute_result"
    }
   ],
   "source": [
    "M[:,0].shape"
   ]
  },
  {
   "cell_type": "code",
   "execution_count": 249,
   "id": "desirable-frank",
   "metadata": {},
   "outputs": [
    {
     "data": {
      "text/plain": [
       "array([[ 0. , -0.5,  0.5],\n",
       "       [ 1. ,  0. ,  0. ]])"
      ]
     },
     "execution_count": 249,
     "metadata": {},
     "output_type": "execute_result"
    }
   ],
   "source": [
    "M"
   ]
  },
  {
   "cell_type": "code",
   "execution_count": 270,
   "id": "pressing-builder",
   "metadata": {},
   "outputs": [
    {
     "data": {
      "text/plain": [
       "array([[0.25, 0.  ],\n",
       "       [0.  , 0.  ]])"
      ]
     },
     "execution_count": 270,
     "metadata": {},
     "output_type": "execute_result"
    }
   ],
   "source": [
    "M[:,np.newaxis,1] @ M[:,np.newaxis,1].T"
   ]
  },
  {
   "cell_type": "code",
   "execution_count": 271,
   "id": "governmental-tunisia",
   "metadata": {},
   "outputs": [
    {
     "data": {
      "text/plain": [
       "array([[-0.5],\n",
       "       [ 0. ]])"
      ]
     },
     "execution_count": 271,
     "metadata": {},
     "output_type": "execute_result"
    }
   ],
   "source": [
    "M[:,np.newaxis,1] "
   ]
  },
  {
   "cell_type": "code",
   "execution_count": 352,
   "id": "greater-recipe",
   "metadata": {},
   "outputs": [
    {
     "data": {
      "text/plain": [
       "array([[[ 0.        ,  0.        ],\n",
       "        [ 0.        ,  0.33333333]],\n",
       "\n",
       "       [[ 0.        , -0.16666667],\n",
       "        [ 0.        ,  0.        ]],\n",
       "\n",
       "       [[ 0.        ,  0.16666667],\n",
       "        [ 0.        ,  0.        ]]])"
      ]
     },
     "execution_count": 352,
     "metadata": {},
     "output_type": "execute_result"
    }
   ],
   "source": [
    "(M.T.reshape(M.shape[1],M.shape[0],1) @ mubar.T) "
   ]
  },
  {
   "cell_type": "code",
   "execution_count": 332,
   "id": "bearing-programming",
   "metadata": {},
   "outputs": [
    {
     "data": {
      "text/plain": [
       "array([[[ 0.        ,  0.        ],\n",
       "        [ 0.        ,  0.33333333]],\n",
       "\n",
       "       [[ 0.        ,  0.        ],\n",
       "        [-0.16666667,  0.        ]],\n",
       "\n",
       "       [[ 0.        ,  0.        ],\n",
       "        [ 0.16666667,  0.        ]]])"
      ]
     },
     "execution_count": 332,
     "metadata": {},
     "output_type": "execute_result"
    }
   ],
   "source": [
    " mubar @ M.T.reshape(M.shape[1],1,M.shape[0])"
   ]
  },
  {
   "cell_type": "code",
   "execution_count": 333,
   "id": "presidential-compensation",
   "metadata": {},
   "outputs": [
    {
     "data": {
      "text/plain": [
       "array([[0.        ],\n",
       "       [0.33333333]])"
      ]
     },
     "execution_count": 333,
     "metadata": {},
     "output_type": "execute_result"
    }
   ],
   "source": [
    "mubar"
   ]
  },
  {
   "cell_type": "code",
   "execution_count": 314,
   "id": "essential-marker",
   "metadata": {},
   "outputs": [
    {
     "ename": "ValueError",
     "evalue": "matmul: Input operand 1 has a mismatch in its core dimension 0, with gufunc signature (n?,k),(k,m?)->(n?,m?) (size 2 is different from 1)",
     "output_type": "error",
     "traceback": [
      "\u001b[1;31m---------------------------------------------------------------------------\u001b[0m",
      "\u001b[1;31mValueError\u001b[0m                                Traceback (most recent call last)",
      "\u001b[1;32m<ipython-input-314-6dcc4c65d655>\u001b[0m in \u001b[0;36m<module>\u001b[1;34m\u001b[0m\n\u001b[1;32m----> 1\u001b[1;33m \u001b[0mM\u001b[0m\u001b[1;33m.\u001b[0m\u001b[0mT\u001b[0m\u001b[1;33m.\u001b[0m\u001b[0mreshape\u001b[0m\u001b[1;33m(\u001b[0m\u001b[1;36m3\u001b[0m\u001b[1;33m,\u001b[0m\u001b[1;36m2\u001b[0m\u001b[1;33m,\u001b[0m\u001b[1;36m1\u001b[0m\u001b[1;33m)\u001b[0m \u001b[1;33m@\u001b[0m \u001b[0mmubar\u001b[0m\u001b[1;33m.\u001b[0m\u001b[0mT\u001b[0m\u001b[1;33m.\u001b[0m\u001b[0mshape\u001b[0m\u001b[1;33m\u001b[0m\u001b[1;33m\u001b[0m\u001b[0m\n\u001b[0m",
      "\u001b[1;31mValueError\u001b[0m: matmul: Input operand 1 has a mismatch in its core dimension 0, with gufunc signature (n?,k),(k,m?)->(n?,m?) (size 2 is different from 1)"
     ]
    }
   ],
   "source": [
    "M.T.reshape(3,2,1) @ mubar.T.shape"
   ]
  },
  {
   "cell_type": "code",
   "execution_count": 308,
   "id": "charged-keeping",
   "metadata": {},
   "outputs": [
    {
     "ename": "ValueError",
     "evalue": "matmul: Input operand 1 has a mismatch in its core dimension 0, with gufunc signature (n?,k),(k,m?)->(n?,m?) (size 2 is different from 1)",
     "output_type": "error",
     "traceback": [
      "\u001b[1;31m---------------------------------------------------------------------------\u001b[0m",
      "\u001b[1;31mValueError\u001b[0m                                Traceback (most recent call last)",
      "\u001b[1;32m<ipython-input-308-c96d116a7024>\u001b[0m in \u001b[0;36m<module>\u001b[1;34m\u001b[0m\n\u001b[1;32m----> 1\u001b[1;33m \u001b[0mmubar\u001b[0m \u001b[1;33m@\u001b[0m \u001b[0mM\u001b[0m\u001b[1;33m.\u001b[0m\u001b[0mT\u001b[0m\u001b[1;33m.\u001b[0m\u001b[0mreshape\u001b[0m\u001b[1;33m(\u001b[0m\u001b[1;36m3\u001b[0m\u001b[1;33m,\u001b[0m\u001b[1;36m2\u001b[0m\u001b[1;33m,\u001b[0m\u001b[1;36m1\u001b[0m\u001b[1;33m)\u001b[0m\u001b[1;33m.\u001b[0m\u001b[0mT\u001b[0m\u001b[1;33m\u001b[0m\u001b[1;33m\u001b[0m\u001b[0m\n\u001b[0m",
      "\u001b[1;31mValueError\u001b[0m: matmul: Input operand 1 has a mismatch in its core dimension 0, with gufunc signature (n?,k),(k,m?)->(n?,m?) (size 2 is different from 1)"
     ]
    }
   ],
   "source": [
    "mubar @ M.T.reshape(3,2,1).T"
   ]
  },
  {
   "cell_type": "code",
   "execution_count": 309,
   "id": "divided-exchange",
   "metadata": {},
   "outputs": [
    {
     "data": {
      "text/plain": [
       "(2, 1)"
      ]
     },
     "execution_count": 309,
     "metadata": {},
     "output_type": "execute_result"
    }
   ],
   "source": [
    "mubar.shape"
   ]
  },
  {
   "cell_type": "code",
   "execution_count": 311,
   "id": "black-england",
   "metadata": {},
   "outputs": [
    {
     "data": {
      "text/plain": [
       "(3, 2)"
      ]
     },
     "execution_count": 311,
     "metadata": {},
     "output_type": "execute_result"
    }
   ],
   "source": [
    "M.T.shape"
   ]
  },
  {
   "cell_type": "code",
   "execution_count": 447,
   "id": "intermediate-automation",
   "metadata": {},
   "outputs": [
    {
     "data": {
      "text/plain": [
       "array([0., 1., 0.])"
      ]
     },
     "execution_count": 447,
     "metadata": {},
     "output_type": "execute_result"
    }
   ],
   "source": [
    "test.c"
   ]
  },
  {
   "cell_type": "code",
   "execution_count": 446,
   "id": "infectious-hayes",
   "metadata": {},
   "outputs": [
    {
     "ename": "NameError",
     "evalue": "name 'self' is not defined",
     "output_type": "error",
     "traceback": [
      "\u001b[1;31m---------------------------------------------------------------------------\u001b[0m",
      "\u001b[1;31mNameError\u001b[0m                                 Traceback (most recent call last)",
      "\u001b[1;32m<ipython-input-446-431e2e26dbb0>\u001b[0m in \u001b[0;36m<module>\u001b[1;34m\u001b[0m\n\u001b[1;32m----> 1\u001b[1;33m \u001b[0mself\u001b[0m\u001b[1;33m.\u001b[0m\u001b[0mc\u001b[0m\u001b[1;33m\u001b[0m\u001b[1;33m\u001b[0m\u001b[0m\n\u001b[0m",
      "\u001b[1;31mNameError\u001b[0m: name 'self' is not defined"
     ]
    }
   ],
   "source": []
  },
  {
   "cell_type": "code",
   "execution_count": null,
   "id": "uniform-antique",
   "metadata": {},
   "outputs": [],
   "source": []
  }
 ],
 "metadata": {
  "interpreter": {
   "hash": "b3ba2566441a7c06988d0923437866b63cedc61552a5af99d1f4fb67d367b25f"
  },
  "kernelspec": {
   "display_name": "Python 3",
   "language": "python",
   "name": "python3"
  },
  "language_info": {
   "codemirror_mode": {
    "name": "ipython",
    "version": 3
   },
   "file_extension": ".py",
   "mimetype": "text/x-python",
   "name": "python",
   "nbconvert_exporter": "python",
   "pygments_lexer": "ipython3",
   "version": "3.8.5"
  }
 },
 "nbformat": 4,
 "nbformat_minor": 5
}
