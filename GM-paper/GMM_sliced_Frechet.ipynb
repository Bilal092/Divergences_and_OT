{
 "cells": [
  {
   "cell_type": "markdown",
   "metadata": {},
   "source": [
    "# Fitting Gaussian Mixture on a data sample using features from a pre-trained Model using Frank-Wolfe Optimizer and sliced Frechet Divergence \n",
    "\n",
    "Consider the set of all $K$-dimensional categorical distributions given by\n",
    "\n",
    "$$\\begin{equation}\n",
    "    \\mathcal{C} = \\bigg\\{ \\mathbf{c} \\in \\mathbb{R}^{K}_{+} :  \\mathbf{c} \\geq 0,\\ \\mathbf{c}^{\\rm T}\\mathbf{1} = 1 \\bigg\\} \\subset \\mathbb{R}^{K}_{+}.\n",
    "\\end{equation}\n",
    "$$\n",
    "In this code we consider the set of gaussian mixtures for the set of distributions $\\{ \\nu_{i} \\}_{i = 1}^{K} $ given by given by:\n",
    "$$\\begin{equation}\n",
    "\t\t\\mathcal{GM} \\bigg(\\mathbf{c}, \\{ \\nu_{i} \\}_{i = 1}^{K} \\bigg) = \\bigg\\{ \\sum_{i = 1}^{K} c_{i} \\nu_{i}, \\ \\forall \\mathbf{c} \\in \\mathcal{C} \\bigg\\}\n",
    "\t\\end{equation}\n",
    "$$\n",
    "For the mixture of gaussian distributions $\\{ \\nu_{i} \\}_{i = 1}^{K} $ with means $\\{ \\mu_{i} \\}_{i = 1}^{K} $ and covariance matrices $\\{ \\Sigma_{i} \\}_{i = 1}^{K} $, mixture means and covariance are\n",
    "\n",
    "$$\n",
    "\\begin{gather*}\n",
    " \\bar{\\mu}_{\\mathbf{c}} = \\sum_{k =1}^{K} c_{k} \\mu_{k}\\  \\text{,  }\n",
    " \\,\\,\\,\\, \\tilde{\\Sigma}_{\\mathbf{c}} = \\sum_{k =1}^{K} c_k \\big( \\Sigma_k + \\mu_{k} \\mu_{k}^{\\top} - \\bar{\\mu}_{\\mathbf{c}} \\bar{\\mu}_{\\mathbf{c}}^\\top \\big)\n",
    "\\end{gather*}\n",
    "$$\n",
    "For a data sample $\\nu_{*}$, we employed Frank-Wolfe Based optimization routine to find the best matching mean, covaraince pair from the the set of all possible mixtures of $\\{ \\nu_{i} \\}_{i = 1}^{K} $ to fit with mean $\\mu_{*}$ and covaraince $\\Sigma_{*}$ of $\\nu_{*}$."
   ]
  },
  {
   "cell_type": "code",
   "execution_count": 4,
   "metadata": {},
   "outputs": [],
   "source": [
    "#%%\n",
    "import numpy as np\n",
    "import scipy as sp\n",
    "from scipy.optimize import check_grad\n",
    "from scipy.optimize import approx_fprime\n",
    "from matplotlib import pyplot as plt\n",
    "\n",
    "'''\n",
    "    mx: mean of source with size: n x 1\n",
    "    M: means of target distributions with size: n x K, where K indicates number of data-classes.\n",
    "    covx: covariance matrix of source with size: n x 1\n",
    "    covM: array of covariance matrices of target distributions with size: K x n x n, where K indicates number of data-classes.\n",
    "    max_iter: max_iterations of Frank Wolfe\n",
    "    tol: tolerance for gradient check\n",
    "    divg: divergences to be used for computations\n",
    "    max_iter: maximum of frank wolfe iterations\n",
    "    min_tol: minimum tolerance for gardient checking\n",
    "    print_iter: priniting values of maixture weights for each iteration\n",
    "'''\n",
    "class GM_FW_sliced:\n",
    "    def __init__(self, mux, M, covx, covM, c0, eta, n_slice, max_iter = None, min_tol = None, print_iter = None):\n",
    "        # instance attributes which should be initilzied with class\n",
    "        self.mux = mux\n",
    "        self.M = M\n",
    "        self.covx = covx\n",
    "        self.covM = covM\n",
    "        self.c0 = c0\n",
    "        self.w = np.zeros([mux.shape[0],1])\n",
    "        self.I = np.identity(np.size(mux), dtype=np.float64)\n",
    "        self.n_slice = n_slice\n",
    "\n",
    "        # attributes to be keep track of computations\n",
    "        self.c = np.zeros_like(c0, dtype=np.float64)\n",
    "        self.mubar = np.zeros_like(mux, dtype=np.float64)\n",
    "        self.hat_covM = self.covM + self.M.T.reshape([self.M.shape[1], self.M.shape[0], 1]) @ self.M.T.reshape([M.shape[1], 1, M.shape[0]])\n",
    "        self.tilde_covM = np.zeros_like(covM, dtype=np.float64)\n",
    "        self.tilde_sigma_c = np.zeros([covM.shape[1], covM.shape[2]],dtype=np.float64)\n",
    "        self.zeta_c = 0\n",
    "        \n",
    "        if max_iter == None:\n",
    "            self.max_iter = 1000\n",
    "        else:\n",
    "            self.max_iter = max_iter\n",
    "\n",
    "        if min_tol == None:\n",
    "            self.min_tol = 1e-6\n",
    "        else:\n",
    "            self.min_tol = min_tol\n",
    "        \n",
    "        if print_iter == None:\n",
    "            self.print_iter = False\n",
    "        elif print_iter == False:\n",
    "            self.print_iter = False\n",
    "        elif print_iter == True:\n",
    "            self.print_iter = True\n",
    "        else:\n",
    "            self.print_iter = False\n",
    "\n",
    "        self.obj_vals = np.zeros([self.max_iter], dtype=np.float64)\n",
    "        self.grads = np.zeros([self.max_iter, np.size(self.c)], dtype=np.float64)\n",
    "        self.weights = np.zeros([self.max_iter, np.size(self.c)], dtype=np.float64)\n",
    "        self.eta = eta\n",
    "        \n",
    "    # Method to reset values of variables for new run\n",
    "    def reset_values(self):\n",
    "        self.I = np.identity(np.size(self.mux))\n",
    "        self.w = np.zeros([mux.shape[0], 1])\n",
    "\n",
    "        # attributes to be keep track of computations\n",
    "        self.c = np.zeros_like(self.c0)\n",
    "        self.mubar = np.zeros_like(self.mux)\n",
    "        self.hat_covM = self.covM + \\\n",
    "            self.M.T.reshape([self.M.shape[1], self.M.shape[0], 1]\n",
    "                         ) @ self.M.T.reshape([self.M.shape[1], 1, self.M.shape[0]])\n",
    "        self.tilde_covM = np.zeros_like(self.covM)\n",
    "        self.tilde_sigma_c = np.zeros([self.covM.shape[1], self.covM.shape[2]])\n",
    "        self.zeta_c = np.zeros([self.covM.shape[1], self.covM.shape[2]])\n",
    "\n",
    "        self.obj_vals = np.zeros([self.max_iter])\n",
    "        self.grads = np.zeros([self.max_iter, np.size(self.c)])\n",
    "        self.weights = np.zeros([self.max_iter, np.size(self.c)])\n",
    "        \n",
    "    # Weight initialization method to to start Frank-Wolfe Algorithm\n",
    "    def initialize_weights(self):\n",
    "        self.c = self.c0\n",
    "    # Method to update bar{\\mu} = Mc\n",
    "    def update_mubar(self):\n",
    "        self.mubar =  np.sum(self.c[np.newaxis,:] * self.M, axis = 1, keepdims = True)\n",
    "    # Sliced MMD objective function\n",
    "    def compute_mmd_sliced(self):\n",
    "        return (self.w.T@(self.M @ self.c[:,np.newaxis] - self.mux))**2\n",
    "    # Sliced MMD gradient\n",
    "    def compute_mmd_grad_sliced(self):\n",
    "        temp = self.M.T @ self.w * \\\n",
    "            (self.w.T@(self.M @ self.c[:, np.newaxis] - self.mux))\n",
    "        return np.squeeze(temp)\n",
    "    # Method to compute \\tilde{\\Sigma_{k}} = \\Sigma_{k} + \\mu_{k}\\mu_{k}^{T} - \\bar{\\mu} \\bar{\\mu}^{T}\n",
    "    def update_tilde_covM(self):\n",
    "        self.tilde_covM = self.hat_covM - (self.mubar@self.mubar.T)[np.newaxis,:,:]\n",
    "    # Method to compute \\tilde{\\Sigma_{\\mathbf{c}}} = \\sum_{c} \\tilde{\\Sigma_{c}}\n",
    "    def update_tilde_sigma_c(self):\n",
    "        self.tilde_sigma_c = np.sum(\n",
    "            self.c[:, np.newaxis, np.newaxis] * self.tilde_covM, axis=0)\n",
    "    # Method to compute the regularized last part of bures objective, \n",
    "    # which is used both in bures objective and its gradient\n",
    "    # sqrt ( (w.T @ tilde_sigma_c @ w) * (w.T @ covx @ w) + eta^ /4 )\n",
    "    # This part of the slicing comes from Austin's unpublished paper\n",
    "    def update_zeta_c(self):\n",
    "        temp = np.sqrt((self.w.T @ self.tilde_sigma_c @ self.w) * (self.w.T @ self.covx @ self.w) + self.eta**4/4)\n",
    "        temp = np.real(temp)\n",
    "        self.zeta_c = temp.item()\n",
    "   # Regularized and unregulrized sliced Bures objetives\n",
    "    def compute_bures_sliced(self):\n",
    "        if self.eta == 0:\n",
    "            return self.w.T @ ((self.tilde_sigma_c + self.covx) @ self.w) - 2 * self.zeta_c\n",
    "        else:\n",
    "            B = self.w.T @ ((self.tilde_sigma_c + self.covx) @ self.w) - 2 * self.zeta_c\n",
    "            B = B + self.eta**2 * np.log(2 * self.zeta_c + self.eta**2) \n",
    "            B = B + self.covx.shape[0] * self.eta**2 * (1  - np.log(2*self.eta**2))\n",
    "            return B\n",
    "\n",
    "    # Bures Gradient with respect to \\mathbf{c}\n",
    "    def compute_bures_grad_c_sliced(self):\n",
    "        G = 1 - ((self.w.T @ self.covx @ self.w) / self.zeta_c ) * (1 - self.eta**2/(2*self.zeta_c + self.eta**2))\n",
    "        rho = (self.M.T.reshape(self.M.shape[1], self.M.shape[0], 1) @ self.mubar.T) + \\\n",
    "            self.mubar @ self.M.T.reshape(self.M.shape[1], 1, self. M.shape[0])\n",
    "\n",
    "        # Grad = np.zeros_like(self.c0)\n",
    "        # for k in range(0, Grad.size):\n",
    "        #     Grad[k] = G * (self.w.T @ (self.hat_covM[k,:,:] - rho[k, :, :]) @ self.w)\n",
    "        #     print(self.hat_covM[k, :, :] - rho[k, :, :])\n",
    "        # above loop is replaced by the equivalent statement below\n",
    "        Grad = np.squeeze( G * (self.w.T@(self.hat_covM - rho)@self.w) )\n",
    "        return Grad\n",
    "\n",
    "    # Frechet Objective as sum of bures and MMD objectives\n",
    "    def compute_frechet_sliced(self):\n",
    "        B = self.compute_bures_sliced()\n",
    "        mmd = self.compute_mmd_sliced()\n",
    "        return B + mmd\n",
    "    # Frechet gradient as sum of bures and MMD gradients\n",
    "    def compute_frechet_grad_sliced(self):\n",
    "        GB = self.compute_bures_grad_c_sliced()\n",
    "        Gmmd = self.compute_mmd_grad_sliced()\n",
    "        return GB + Gmmd\n",
    "    \n",
    "    # Frank Wolfe Routine for Frechet\n",
    "    def FW_frechet_routine(self):\n",
    "        self.initialize_weights()\n",
    "        if self.print_iter == True:\n",
    "            print(\"initially\")\n",
    "            print(self.c)\n",
    "        obj_slice = np.zeros(self.n_slice)\n",
    "        grad_slice = np.zeros([self.c0.size, self.n_slice])\n",
    "        W = np.random.normal(0, 1, [self.covx.shape[0], self.n_slice])\n",
    "        norm_W = np.linalg.norm(W, axis=0)\n",
    "        W = W / norm_W[np.newaxis, :]\n",
    "\n",
    "        for i in range(0, self.max_iter):\n",
    "            self.update_mubar()\n",
    "            self.update_tilde_covM()\n",
    "            self.update_tilde_sigma_c()\n",
    "\n",
    "            for j in range(0, self.n_slice):\n",
    "                self.w = W[:, j][:, np.newaxis]\n",
    "                self.update_zeta_c()\n",
    "                obj_slice[j] = self.compute_frechet_sliced()\n",
    "                grad_slice[:, j] = self.compute_frechet_grad_sliced()\n",
    "\n",
    "            self.obj_vals[i] = np.mean(obj_slice)\n",
    "            self.grads[i, :] = np.mean(grad_slice, axis=1)\n",
    "            g = self.grads[i, :]\n",
    "            #print(g)\n",
    "            s = np.zeros_like(self.c)\n",
    "            idx = np.argmin(g)\n",
    "            s[idx] = 1\n",
    "            gamma = 2 / (2 + i)\n",
    "            self.c = (1 - gamma) * self.c + gamma * s\n",
    "\n",
    "            self.weights[i, :] = self.c\n",
    "\n",
    "            if self.print_iter == True:\n",
    "                print(\"iter = \", i)\n",
    "                print(self.c)\n",
    "    \n",
    "    # Frank Wolfe Routine for Bures\n",
    "    def FW_bures_routine_sliced(self):\n",
    "        self.initialize_weights()\n",
    "        if self.print_iter == True:\n",
    "            print(\"initially\")\n",
    "            print(self.c)\n",
    "        obj_slice = np.zeros(self.n_slice)\n",
    "        grad_slice = np.zeros([self.c0.size, self.n_slice])\n",
    "        W = np.random.normal(0, 1, [self.covx.shape[0], self.n_slice])\n",
    "        norm_W = np.linalg.norm(W, axis=0)\n",
    "        W = W / norm_W[np.newaxis, :]\n",
    "\n",
    "        for i in range(0, self.max_iter):\n",
    "            self.update_mubar()\n",
    "            self.update_tilde_covM()\n",
    "            self.update_tilde_sigma_c()\n",
    "\n",
    "            for j in range(0, self.n_slice):\n",
    "                self.w = W[:, j][:, np.newaxis]\n",
    "                #print(self.w)\n",
    "                self.update_zeta_c()\n",
    "                # print(self.zeta_c)\n",
    "                obj_slice[j] = self.compute_bures_sliced()\n",
    "                # print(obj_slice[j])\n",
    "                grad_slice[:, j] = self.compute_bures_grad_c_sliced()\n",
    "                #print(grad_slice[:,j])\n",
    "\n",
    "            self.obj_vals[i] = np.mean(obj_slice)\n",
    "            self.grads[i, :] = np.mean(grad_slice, axis=1)\n",
    "            g = self.grads[i, :]\n",
    "            #print(g)\n",
    "            s = np.zeros_like(self.c)\n",
    "            idx = np.argmin(g)\n",
    "            s[idx] = 1\n",
    "            gamma = 2 / (2 + i)\n",
    "            self.c = (1 - gamma) * self.c + gamma * s\n",
    "     \n",
    "            self.weights[i, :] = self.c\n",
    "\n",
    "            if self.print_iter == True:\n",
    "                print(\"iter = \", i)\n",
    "                print(self.c)\n",
    "            \n",
    "    # Frank Wolfe Routine for MMD\n",
    "    def FW_MMD_routine_sliced(self):\n",
    "        self.initialize_weights()\n",
    "        if self.print_iter == True:\n",
    "            print(\"initially\")\n",
    "            print(self.c)\n",
    "        obj_slice = np.zeros(self.n_slice)\n",
    "        grad_slice = np.zeros([self.c0.size, self.n_slice])\n",
    "        W = np.random.normal(0, 1, [self.covx.shape[0], self.n_slice])\n",
    "        norm_W = np.linalg.norm(W, axis=0)\n",
    "        W = W / norm_W[np.newaxis, :]\n",
    "        \n",
    "        for i in range(0, self.max_iter):\n",
    "            for j in range(0, self.n_slice):\n",
    "                self.w = W[:,j][:, np.newaxis]\n",
    "                obj_slice[j] = self.compute_mmd_sliced()\n",
    "                grad_slice[:,j] = self.compute_mmd_grad_sliced()\n",
    "            \n",
    "            self.obj_vals[i] = np.mean(obj_slice)\n",
    "            self.grads[i, :] = np.mean(grad_slice, axis=1)\n",
    "            g = self.grads[i,:]\n",
    "            s = np.zeros_like(self.c)\n",
    "            idx = np.argmin(g)\n",
    "            s[idx] = 1\n",
    "            gamma = 2 / (2 + i)\n",
    "            self.c = (1 - gamma) * self.c  + gamma * s \n",
    "            self.grads[i,:] = np.squeeze(g)\n",
    "            self.weights[i,:] = self.c\n",
    "\n",
    "            if self.print_iter == True:\n",
    "                print(\"iter = \",i)\n",
    "                print(self.c)\n",
    "\n",
    "\n",
    "def Hellinger(p, q):\n",
    "  '''\n",
    "  Function to evaluate Hellinger Distance between distributions categorical distributions p and q\n",
    "  input: distributions p and q\n",
    "  outputs: Hillnger distance between p and q\n",
    "\n",
    "  '''\n",
    "  assert np.all(p >= 0), \"first distribution must be non-negative\"\n",
    "  assert np.all(q >= 0), \"second distribution must be non-negative\"\n",
    "  assert p.size == q.size, \"input vectors must be of same size\"\n",
    "\n",
    "  p = p.reshape([p.size, 1])\n",
    "  q = q.reshape([q.size, 1])\n",
    "\n",
    "  return (1/np.sqrt(2)) * np.linalg.norm(np.sqrt(p) - np.sqrt(q))\n"
   ]
  },
  {
   "cell_type": "code",
   "execution_count": 92,
   "metadata": {},
   "outputs": [],
   "source": [
    "import numpy as np\n",
    "import scipy as sp\n",
    "\n",
    "M = np.array([[0, -5, 5],[10, 0, 0]])\n",
    "#M = np.array([[0, 0, 0], [0, 0, 0]])\n",
    "#M = np.ones_like(M)\n",
    "#mux = np.array([[np.sqrt(3)/2], [np.sqrt(3)/2] ])\n",
    "#mux = np.array([[0], [0] ])\n",
    "#covx = np.array([[10,6],[6,8]])\n",
    "covM = np.zeros([3,2,2])\n",
    "covM[0] = np.array([[1, 0.5],[0.5, 1]])\n",
    "covM[1] = np.array([[5, 0.6], [0.6, 7]])\n",
    "covM[2] = np.array([[4, 1], [1, 2]])\n",
    "\n",
    "mux = np.mean(M, axis = 1, keepdims = True)\n",
    "#mux = np.array([[0], [10] ])\n",
    "covx = 1/3 * covM[0] + 1/3 * covM[1] + 1/3 * covM[2]\n",
    "\n",
    "#covx = np.array([[4, 1], [1, 2]])\n",
    "c0 = np.ones(3)/3\n",
    "#c0 = np.array([0,1/2,1/2])\n",
    "\n",
    "iterations = 100\n",
    "#(self, mux, M, covx, covM, c0, eta, n_slice, max_iter=None, min_tol=None, print_iter=None)\n",
    "test = GM_FW_sliced(mux, M, covx, covM, c0, eta = 0e-1, n_slice = 100, max_iter = iterations, print_iter = False)\n",
    "test.reset_values()\n",
    "#test.FW_MMD_routine_sliced()\n",
    "test.FW_frechet_routine()\n",
    "#test.FW_bures_routine_sliced()\n",
    "#test.reset_values()\n",
    "\n"
   ]
  },
  {
   "cell_type": "code",
   "execution_count": 93,
   "metadata": {},
   "outputs": [
    {
     "data": {
      "text/plain": [
       "[<matplotlib.lines.Line2D at 0x1c341739760>]"
      ]
     },
     "execution_count": 93,
     "metadata": {},
     "output_type": "execute_result"
    },
    {
     "data": {
      "image/png": "[encoded data removed]",
      "text/plain": [
       "<Figure size 432x288 with 1 Axes>"
      ]
     },
     "metadata": {
      "needs_background": "light"
     },
     "output_type": "display_data"
    }
   ],
   "source": [
    "plt.plot(test.obj_vals)"
   ]
  },
  {
   "cell_type": "code",
   "execution_count": 95,
   "metadata": {},
   "outputs": [
    {
     "data": {
      "text/plain": [
       "array([[0.        , 0.        , 1.        ],\n",
       "       [0.66666667, 0.        , 0.33333333],\n",
       "       [0.33333333, 0.5       , 0.16666667],\n",
       "       [0.2       , 0.3       , 0.5       ],\n",
       "       [0.13333333, 0.2       , 0.66666667],\n",
       "       [0.0952381 , 0.14285714, 0.76190476],\n",
       "       [0.07142857, 0.10714286, 0.82142857],\n",
       "       [0.27777778, 0.08333333, 0.63888889],\n",
       "       [0.22222222, 0.06666667, 0.71111111],\n",
       "       [0.18181818, 0.05454545, 0.76363636],\n",
       "       [0.15151515, 0.21212121, 0.63636364],\n",
       "       [0.12820513, 0.17948718, 0.69230769],\n",
       "       [0.10989011, 0.15384615, 0.73626374],\n",
       "       [0.0952381 , 0.13333333, 0.77142857],\n",
       "       [0.08333333, 0.11666667, 0.8       ],\n",
       "       [0.07352941, 0.10294118, 0.82352941],\n",
       "       [0.17647059, 0.09150327, 0.73202614],\n",
       "       [0.15789474, 0.08187135, 0.76023392],\n",
       "       [0.14210526, 0.07368421, 0.78421053],\n",
       "       [0.12857143, 0.06666667, 0.8047619 ],\n",
       "       [0.11688312, 0.06060606, 0.82251082],\n",
       "       [0.10671937, 0.14229249, 0.75098814],\n",
       "       [0.09782609, 0.13043478, 0.77173913],\n",
       "       [0.09      , 0.12      , 0.79      ],\n",
       "       [0.08307692, 0.11076923, 0.80615385],\n",
       "       [0.07692308, 0.1025641 , 0.82051282],\n",
       "       [0.07142857, 0.0952381 , 0.83333333],\n",
       "       [0.13546798, 0.08866995, 0.77586207],\n",
       "       [0.12643678, 0.08275862, 0.7908046 ],\n",
       "       [0.11827957, 0.07741935, 0.80430108],\n",
       "       [0.1108871 , 0.07258065, 0.81653226],\n",
       "       [0.10416667, 0.06818182, 0.82765152],\n",
       "       [0.09803922, 0.12299465, 0.77896613],\n",
       "       [0.09243697, 0.11596639, 0.79159664],\n",
       "       [0.08730159, 0.10952381, 0.8031746 ],\n",
       "       [0.08258258, 0.1036036 , 0.81381381],\n",
       "       [0.07823613, 0.09815078, 0.82361309],\n",
       "       [0.07422402, 0.09311741, 0.83265857],\n",
       "       [0.12051282, 0.08846154, 0.79102564],\n",
       "       [0.11463415, 0.08414634, 0.80121951],\n",
       "       [0.10917538, 0.08013937, 0.81068525],\n",
       "       [0.10409745, 0.07641196, 0.81949059],\n",
       "       [0.09936575, 0.07293869, 0.82769556],\n",
       "       [0.09494949, 0.06969697, 0.83535354],\n",
       "       [0.09082126, 0.11014493, 0.79903382],\n",
       "       [0.08695652, 0.10545791, 0.80758557],\n",
       "       [0.08333333, 0.10106383, 0.81560284],\n",
       "       [0.07993197, 0.09693878, 0.82312925],\n",
       "       [0.07673469, 0.09306122, 0.83020408],\n",
       "       [0.07372549, 0.08941176, 0.83686275],\n",
       "       [0.10935143, 0.08597285, 0.80467572],\n",
       "       [0.10522496, 0.08272859, 0.81204644],\n",
       "       [0.10132774, 0.07966457, 0.81900769],\n",
       "       [0.0976431 , 0.07676768, 0.82558923],\n",
       "       [0.09415584, 0.07402597, 0.83181818],\n",
       "       [0.09085213, 0.10651629, 0.80263158],\n",
       "       [0.0877193 , 0.10284332, 0.80943739],\n",
       "       [0.08474576, 0.0993571 , 0.81589714],\n",
       "       [0.0819209 , 0.0960452 , 0.8220339 ],\n",
       "       [0.07923497, 0.09289617, 0.82786885],\n",
       "       [0.07667901, 0.08989952, 0.83342147],\n",
       "       [0.10599078, 0.08704557, 0.80696365],\n",
       "       [0.10267857, 0.0843254 , 0.81299603],\n",
       "       [0.09951923, 0.08173077, 0.81875   ],\n",
       "       [0.0965035 , 0.07925408, 0.82424242],\n",
       "       [0.0936228 , 0.07688829, 0.82948892],\n",
       "       [0.09086918, 0.07462687, 0.83450395],\n",
       "       [0.08823529, 0.10144928, 0.81031543],\n",
       "       [0.08571429, 0.09855072, 0.81573499],\n",
       "       [0.0832998 , 0.09577465, 0.82092555],\n",
       "       [0.08098592, 0.09311424, 0.82589984],\n",
       "       [0.07876712, 0.09056317, 0.83066971],\n",
       "       [0.07663828, 0.08811551, 0.83524621],\n",
       "       [0.10126126, 0.08576577, 0.81297297],\n",
       "       [0.09859649, 0.08350877, 0.81789474],\n",
       "       [0.09603554, 0.08133971, 0.82262474],\n",
       "       [0.09357309, 0.07925408, 0.82717283],\n",
       "       [0.09120415, 0.07724765, 0.8315482 ],\n",
       "       [0.08892405, 0.07531646, 0.83575949],\n",
       "       [0.0867284 , 0.09814815, 0.81512346],\n",
       "       [0.08461307, 0.09575429, 0.81963264],\n",
       "       [0.0825742 , 0.09344696, 0.82397884],\n",
       "       [0.08060815, 0.09122203, 0.82816982],\n",
       "       [0.07871148, 0.08907563, 0.83221289],\n",
       "       [0.07688098, 0.0870041 , 0.83611491],\n",
       "       [0.09810211, 0.08500401, 0.81689388],\n",
       "       [0.09587252, 0.0830721 , 0.82105538],\n",
       "       [0.09371808, 0.08120531, 0.82507661],\n",
       "       [0.09163546, 0.07940075, 0.8289638 ],\n",
       "       [0.08962149, 0.07765568, 0.83272283],\n",
       "       [0.0876732 , 0.07596751, 0.83635929],\n",
       "       [0.08578775, 0.09583918, 0.81837307],\n",
       "       [0.08396248, 0.09380005, 0.82223747],\n",
       "       [0.08219485, 0.09182531, 0.82597984],\n",
       "       [0.08048246, 0.08991228, 0.82960526],\n",
       "       [0.07882302, 0.08805842, 0.83311856],\n",
       "       [0.07721439, 0.08626131, 0.8365243 ],\n",
       "       [0.09585652, 0.08451866, 0.81962482],\n",
       "       [0.09393939, 0.08282828, 0.82323232],\n",
       "       [0.09207921, 0.08118812, 0.82673267]])"
      ]
     },
     "execution_count": 95,
     "metadata": {},
     "output_type": "execute_result"
    }
   ],
   "source": [
    "test.weights"
   ]
  },
  {
   "cell_type": "code",
   "execution_count": 55,
   "metadata": {},
   "outputs": [
    {
     "data": {
      "text/plain": [
       "array([0.12380952, 0.14285714, 0.73333333])"
      ]
     },
     "execution_count": 55,
     "metadata": {},
     "output_type": "execute_result"
    }
   ],
   "source": [
    "test.c"
   ]
  },
  {
   "cell_type": "code",
   "execution_count": 77,
   "metadata": {},
   "outputs": [
    {
     "data": {
      "text/plain": [
       "array([0.40213876, 0.44618199, 0.4782447 , 0.51049304, 0.43460383])"
      ]
     },
     "execution_count": 77,
     "metadata": {},
     "output_type": "execute_result"
    }
   ],
   "source": [
    "y"
   ]
  },
  {
   "cell_type": "code",
   "execution_count": 77,
   "metadata": {},
   "outputs": [
    {
     "ename": "NameError",
     "evalue": "name 'self' is not defined",
     "output_type": "error",
     "traceback": [
      "\u001b[1;31m---------------------------------------------------------------------------\u001b[0m",
      "\u001b[1;31mNameError\u001b[0m                                 Traceback (most recent call last)",
      "\u001b[1;32m<ipython-input-77-36d7c06f00bd>\u001b[0m in \u001b[0;36m<module>\u001b[1;34m\u001b[0m\n\u001b[1;32m----> 1\u001b[1;33m \u001b[0mself\u001b[0m\u001b[1;33m.\u001b[0m\u001b[0mcovM\u001b[0m\u001b[1;33m\u001b[0m\u001b[1;33m\u001b[0m\u001b[0m\n\u001b[0m",
      "\u001b[1;31mNameError\u001b[0m: name 'self' is not defined"
     ]
    }
   ],
   "source": [
    "self.covM"
   ]
  },
  {
   "cell_type": "code",
   "execution_count": 210,
   "metadata": {},
   "outputs": [],
   "source": [
    "W = np.random.normal(0,1,[100,2])\n",
    "d = np.linalg.norm(W, axis = 1, keepdims=True)\n",
    "circle = W/d\n"
   ]
  },
  {
   "cell_type": "code",
   "execution_count": 211,
   "metadata": {},
   "outputs": [
    {
     "data": {
      "text/plain": [
       "<matplotlib.collections.PathCollection at 0x1cf6d934460>"
      ]
     },
     "execution_count": 211,
     "metadata": {},
     "output_type": "execute_result"
    },
    {
     "data": {
      "image/png": "[encoded data removed]",
      "text/plain": [
       "<Figure size 432x288 with 1 Axes>"
      ]
     },
     "metadata": {
      "needs_background": "light"
     },
     "output_type": "display_data"
    }
   ],
   "source": [
    "plt.scatter(circle[:,0],circle[:,1])"
   ]
  },
  {
   "cell_type": "code",
   "execution_count": 206,
   "metadata": {},
   "outputs": [
    {
     "data": {
      "text/plain": [
       "array([-0.00095427,  0.00376853])"
      ]
     },
     "execution_count": 206,
     "metadata": {},
     "output_type": "execute_result"
    }
   ],
   "source": [
    "np.mean(circle,axis=0)"
   ]
  },
  {
   "cell_type": "code",
   "execution_count": 118,
   "metadata": {},
   "outputs": [
    {
     "data": {
      "text/plain": [
       "array([[[1. , 0.5],\n",
       "        [0.5, 1. ]],\n",
       "\n",
       "       [[5. , 0.6],\n",
       "        [0.6, 7. ]],\n",
       "\n",
       "       [[4. , 1. ],\n",
       "        [1. , 2. ]]])"
      ]
     },
     "execution_count": 118,
     "metadata": {},
     "output_type": "execute_result"
    }
   ],
   "source": [
    "covM"
   ]
  },
  {
   "cell_type": "code",
   "execution_count": 124,
   "metadata": {},
   "outputs": [],
   "source": [
    "w = np.array([1,2])[:,np.newaxis]"
   ]
  },
  {
   "cell_type": "code",
   "execution_count": 125,
   "metadata": {},
   "outputs": [
    {
     "data": {
      "text/plain": [
       "array([[[ 7. ]],\n",
       "\n",
       "       [[35.4]],\n",
       "\n",
       "       [[16. ]]])"
      ]
     },
     "execution_count": 125,
     "metadata": {},
     "output_type": "execute_result"
    }
   ],
   "source": [
    "w.T@covM@w"
   ]
  },
  {
   "cell_type": "code",
   "execution_count": 127,
   "metadata": {},
   "outputs": [
    {
     "name": "stdout",
     "output_type": "stream",
     "text": [
      "[[7.]]\n",
      "[[35.4]]\n",
      "[[16.]]\n"
     ]
    }
   ],
   "source": [
    "for i in range(covM.shape[0]):\n",
    "    print(w.T@covM[i,:,:]@w)"
   ]
  },
  {
   "cell_type": "code",
   "execution_count": null,
   "metadata": {},
   "outputs": [],
   "source": []
  }
 ],
 "metadata": {
  "interpreter": {
   "hash": "b3ba2566441a7c06988d0923437866b63cedc61552a5af99d1f4fb67d367b25f"
  },
  "kernelspec": {
   "display_name": "Python 3.8.5 ('base')",
   "language": "python",
   "name": "python3"
  },
  "language_info": {
   "codemirror_mode": {
    "name": "ipython",
    "version": 3
   },
   "file_extension": ".py",
   "mimetype": "text/x-python",
   "name": "python",
   "nbconvert_exporter": "python",
   "pygments_lexer": "ipython3",
   "version": "3.8.5"
  },
  "orig_nbformat": 4
 },
 "nbformat": 4,
 "nbformat_minor": 2
}
